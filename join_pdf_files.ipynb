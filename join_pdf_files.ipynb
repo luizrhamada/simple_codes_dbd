{
  "nbformat": 4,
  "nbformat_minor": 0,
  "metadata": {
    "colab": {
      "provenance": [],
      "authorship_tag": "ABX9TyMuq7tDSnVWxR5fLaQ77+K8",
      "include_colab_link": true
    },
    "kernelspec": {
      "name": "python3",
      "display_name": "Python 3"
    },
    "language_info": {
      "name": "python"
    }
  },
  "cells": [
    {
      "cell_type": "markdown",
      "metadata": {
        "id": "view-in-github",
        "colab_type": "text"
      },
      "source": [
        "<a href=\"https://colab.research.google.com/github/luizrhamada/simple_codes_dbd/blob/main/join_pdf_files.ipynb\" target=\"_parent\"><img src=\"https://colab.research.google.com/assets/colab-badge.svg\" alt=\"Open In Colab\"/></a>"
      ]
    },
    {
      "cell_type": "markdown",
      "source": [
        "Recently i have faced to a needing to join many pdf format files in just one pdf file. So i've write a simple code to to this and solve my necessity"
      ],
      "metadata": {
        "id": "2JpaMFWvPOp3"
      }
    },
    {
      "cell_type": "code",
      "source": [
        "from PyPDF2 import PdfMerger\n",
        "\n",
        "path_join = PdfMerger()\n",
        "files = [\"file1_name.pdf\", \"file2_name.pdf\", \"file3_name.pdf\"] # how many file you wish\n",
        "\n",
        "for file in files:\n",
        "    path_join.append(file)\n",
        "\n",
        "path_join.write(\"all_file_compiled.pdf\")\n", # compiled filed
        "path_join.close()"
      ],
      "metadata": {
        "id": "Iw_Jy__QPJA7"
      },
      "execution_count": null,
      "outputs": []
    },
    {
      "cell_type": "markdown",
      "source": [],
      "metadata": {
        "id": "VWIVy6qROpiq"
      }
    }
  ]
}
